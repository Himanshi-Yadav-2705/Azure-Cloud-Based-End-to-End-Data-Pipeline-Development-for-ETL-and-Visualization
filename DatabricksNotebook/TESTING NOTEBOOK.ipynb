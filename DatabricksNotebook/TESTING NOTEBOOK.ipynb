{
 "cells": [
  {
   "cell_type": "code",
   "execution_count": 0,
   "metadata": {
    "application/vnd.databricks.v1+cell": {
     "cellMetadata": {
      "byteLimit": 2048000,
      "rowLimit": 10000
     },
     "inputWidgets": {},
     "nuid": "bcd6a0ed-d074-4c7a-859e-2f212ae38dfc",
     "showTitle": false,
     "tableResultSettingsMap": {},
     "title": ""
    }
   },
   "outputs": [],
   "source": [
    "df = spark.read.format('parquet')\\\n",
    "    .option('inferSchema', True)\\\n",
    "    .load('abfss://bronze@saleshimanshidatalake.dfs.core.windows.net/rawdata')"
   ]
  },
  {
   "cell_type": "code",
   "execution_count": 0,
   "metadata": {
    "application/vnd.databricks.v1+cell": {
     "cellMetadata": {
      "byteLimit": 2048000,
      "rowLimit": 10000
     },
     "inputWidgets": {},
     "nuid": "88b084b5-5528-4b37-90f7-931153eafc42",
     "showTitle": false,
     "tableResultSettingsMap": {
      "0": {
       "dataGridStateBlob": "{\"version\":1,\"tableState\":{\"columnPinning\":{\"left\":[\"#row_number#\"],\"right\":[]},\"columnSizing\":{\"BranchName\":129},\"columnVisibility\":{}},\"settings\":{\"columns\":{}},\"syncTimestamp\":1753637176950}",
       "filterBlob": null,
       "queryPlanFiltersBlob": null,
       "tableResultIndex": 0
      }
     },
     "title": ""
    }
   },
   "outputs": [
    {
     "output_type": "display_data",
     "data": {
      "text/html": [
       "<style scoped>\n",
       "  .table-result-container {\n",
       "    max-height: 300px;\n",
       "    overflow: auto;\n",
       "  }\n",
       "  table, th, td {\n",
       "    border: 1px solid black;\n",
       "    border-collapse: collapse;\n",
       "  }\n",
       "  th, td {\n",
       "    padding: 5px;\n",
       "  }\n",
       "  th {\n",
       "    text-align: left;\n",
       "  }\n",
       "</style><div class='table-result-container'><table class='table-result'><thead style='background-color: white'><tr><th>Branch_ID</th><th>Dealer_ID</th><th>Model_ID</th><th>Revenue</th><th>Units_Sold</th><th>Date_ID</th><th>Day</th><th>Month</th><th>Year</th><th>BranchName</th><th>DealerName</th></tr></thead><tbody><tr><td>BR9546</td><td>DLR0060</td><td>Jee-M10</td><td>7223451</td><td>1</td><td>DT01246</td><td>28</td><td>5</td><td>2020</td><td>Premier Motors</td><td>Fisker, Karma Motors up</td></tr><tr><td>BR9666</td><td>DLR0062</td><td>Jee-M12</td><td>22093020</td><td>3</td><td>DT01246</td><td>30</td><td>5</td><td>2020</td><td>Puma Motors</td><td>Ford Australia Motors up</td></tr><tr><td>BR9726</td><td>DLR0063</td><td>Jee-M13</td><td>22372413</td><td>3</td><td>DT01247</td><td>31</td><td>5</td><td>2020</td><td>Power Ranger Motors</td><td>Ford do Brasil Motors up</td></tr><tr><td>XYZ9726</td><td>XYZ0063</td><td>ZYXM13</td><td>22372413</td><td>3</td><td>DT01247</td><td>31</td><td>5</td><td>2020</td><td>DataFam Motors</td><td>Datafam Dealers</td></tr></tbody></table></div>"
      ]
     },
     "metadata": {
      "application/vnd.databricks.v1+output": {
       "addedWidgets": {},
       "aggData": [],
       "aggError": "",
       "aggOverflow": false,
       "aggSchema": [],
       "aggSeriesLimitReached": false,
       "aggType": "",
       "arguments": {},
       "columnCustomDisplayInfos": {},
       "data": [
        [
         "BR9546",
         "DLR0060",
         "Jee-M10",
         7223451,
         1,
         "DT01246",
         28,
         5,
         2020,
         "Premier Motors",
         "Fisker, Karma Motors up"
        ],
        [
         "BR9666",
         "DLR0062",
         "Jee-M12",
         22093020,
         3,
         "DT01246",
         30,
         5,
         2020,
         "Puma Motors",
         "Ford Australia Motors up"
        ],
        [
         "BR9726",
         "DLR0063",
         "Jee-M13",
         22372413,
         3,
         "DT01247",
         31,
         5,
         2020,
         "Power Ranger Motors",
         "Ford do Brasil Motors up"
        ],
        [
         "XYZ9726",
         "XYZ0063",
         "ZYXM13",
         22372413,
         3,
         "DT01247",
         31,
         5,
         2020,
         "DataFam Motors",
         "Datafam Dealers"
        ]
       ],
       "datasetInfos": [],
       "dbfsResultPath": null,
       "isJsonSchema": true,
       "metadata": {},
       "overflow": false,
       "plotOptions": {
        "customPlotOptions": {},
        "displayType": "table",
        "pivotAggregation": null,
        "pivotColumns": null,
        "xColumns": null,
        "yColumns": null
       },
       "removedWidgets": [],
       "schema": [
        {
         "metadata": "{}",
         "name": "Branch_ID",
         "type": "\"string\""
        },
        {
         "metadata": "{}",
         "name": "Dealer_ID",
         "type": "\"string\""
        },
        {
         "metadata": "{}",
         "name": "Model_ID",
         "type": "\"string\""
        },
        {
         "metadata": "{}",
         "name": "Revenue",
         "type": "\"long\""
        },
        {
         "metadata": "{}",
         "name": "Units_Sold",
         "type": "\"long\""
        },
        {
         "metadata": "{}",
         "name": "Date_ID",
         "type": "\"string\""
        },
        {
         "metadata": "{}",
         "name": "Day",
         "type": "\"integer\""
        },
        {
         "metadata": "{}",
         "name": "Month",
         "type": "\"integer\""
        },
        {
         "metadata": "{}",
         "name": "Year",
         "type": "\"integer\""
        },
        {
         "metadata": "{}",
         "name": "BranchName",
         "type": "\"string\""
        },
        {
         "metadata": "{}",
         "name": "DealerName",
         "type": "\"string\""
        }
       ],
       "type": "table"
      }
     },
     "output_type": "display_data"
    }
   ],
   "source": [
    "df.display()"
   ]
  },
  {
   "cell_type": "code",
   "execution_count": 0,
   "metadata": {
    "application/vnd.databricks.v1+cell": {
     "cellMetadata": {},
     "inputWidgets": {},
     "nuid": "f3b2f900-a715-4e23-8cdc-871c25235c81",
     "showTitle": false,
     "tableResultSettingsMap": {},
     "title": ""
    }
   },
   "outputs": [],
   "source": []
  }
 ],
 "metadata": {
  "application/vnd.databricks.v1+notebook": {
   "computePreferences": null,
   "dashboards": [],
   "environmentMetadata": {
    "base_environment": "",
    "environment_version": "2"
   },
   "inputWidgetPreferences": null,
   "language": "python",
   "notebookMetadata": {
    "pythonIndentUnit": 4
   },
   "notebookName": "TESTING NOTEBOOK",
   "widgets": {}
  },
  "language_info": {
   "name": "python"
  }
 },
 "nbformat": 4,
 "nbformat_minor": 0
}